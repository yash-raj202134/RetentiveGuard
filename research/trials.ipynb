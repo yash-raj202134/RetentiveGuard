{
 "cells": [
  {
   "cell_type": "code",
   "execution_count": 2,
   "metadata": {},
   "outputs": [
    {
     "data": {
      "text/plain": [
       "'c:\\\\Users\\\\yashr\\\\OneDrive\\\\Desktop\\\\RetentiveGuard Model\\\\project\\\\RetentiveGuard\\\\research'"
      ]
     },
     "execution_count": 2,
     "metadata": {},
     "output_type": "execute_result"
    }
   ],
   "source": [
    "%pwd"
   ]
  },
  {
   "cell_type": "code",
   "execution_count": 4,
   "metadata": {},
   "outputs": [],
   "source": [
    "import os\n",
    "\n",
    "os.chdir(\"..\")"
   ]
  },
  {
   "cell_type": "code",
   "execution_count": 5,
   "metadata": {},
   "outputs": [],
   "source": [
    "from pandas import read_csv\n",
    "\n",
    "\n",
    "train_dataset = read_csv('artifacts/data_ingestion/data1/train_essays.csv')[['text', 'generated']].rename(columns={'generated' : 'label'})"
   ]
  },
  {
   "cell_type": "code",
   "execution_count": 6,
   "metadata": {},
   "outputs": [
    {
     "data": {
      "text/html": [
       "<div>\n",
       "<style scoped>\n",
       "    .dataframe tbody tr th:only-of-type {\n",
       "        vertical-align: middle;\n",
       "    }\n",
       "\n",
       "    .dataframe tbody tr th {\n",
       "        vertical-align: top;\n",
       "    }\n",
       "\n",
       "    .dataframe thead th {\n",
       "        text-align: right;\n",
       "    }\n",
       "</style>\n",
       "<table border=\"1\" class=\"dataframe\">\n",
       "  <thead>\n",
       "    <tr style=\"text-align: right;\">\n",
       "      <th></th>\n",
       "      <th>text</th>\n",
       "      <th>label</th>\n",
       "    </tr>\n",
       "  </thead>\n",
       "  <tbody>\n",
       "    <tr>\n",
       "      <th>0</th>\n",
       "      <td>Cars. Cars have been around since they became ...</td>\n",
       "      <td>0</td>\n",
       "    </tr>\n",
       "    <tr>\n",
       "      <th>1</th>\n",
       "      <td>Transportation is a large necessity in most co...</td>\n",
       "      <td>0</td>\n",
       "    </tr>\n",
       "    <tr>\n",
       "      <th>2</th>\n",
       "      <td>\"America's love affair with it's vehicles seem...</td>\n",
       "      <td>0</td>\n",
       "    </tr>\n",
       "    <tr>\n",
       "      <th>3</th>\n",
       "      <td>How often do you ride in a car? Do you drive a...</td>\n",
       "      <td>0</td>\n",
       "    </tr>\n",
       "    <tr>\n",
       "      <th>4</th>\n",
       "      <td>Cars are a wonderful thing. They are perhaps o...</td>\n",
       "      <td>0</td>\n",
       "    </tr>\n",
       "    <tr>\n",
       "      <th>...</th>\n",
       "      <td>...</td>\n",
       "      <td>...</td>\n",
       "    </tr>\n",
       "    <tr>\n",
       "      <th>1373</th>\n",
       "      <td>There has been a fuss about the Elector Colleg...</td>\n",
       "      <td>0</td>\n",
       "    </tr>\n",
       "    <tr>\n",
       "      <th>1374</th>\n",
       "      <td>Limiting car usage has many advantages. Such a...</td>\n",
       "      <td>0</td>\n",
       "    </tr>\n",
       "    <tr>\n",
       "      <th>1375</th>\n",
       "      <td>There's a new trend that has been developing f...</td>\n",
       "      <td>0</td>\n",
       "    </tr>\n",
       "    <tr>\n",
       "      <th>1376</th>\n",
       "      <td>As we all know cars are a big part of our soci...</td>\n",
       "      <td>0</td>\n",
       "    </tr>\n",
       "    <tr>\n",
       "      <th>1377</th>\n",
       "      <td>Cars have been around since the 1800's and hav...</td>\n",
       "      <td>0</td>\n",
       "    </tr>\n",
       "  </tbody>\n",
       "</table>\n",
       "<p>1378 rows × 2 columns</p>\n",
       "</div>"
      ],
      "text/plain": [
       "                                                   text  label\n",
       "0     Cars. Cars have been around since they became ...      0\n",
       "1     Transportation is a large necessity in most co...      0\n",
       "2     \"America's love affair with it's vehicles seem...      0\n",
       "3     How often do you ride in a car? Do you drive a...      0\n",
       "4     Cars are a wonderful thing. They are perhaps o...      0\n",
       "...                                                 ...    ...\n",
       "1373  There has been a fuss about the Elector Colleg...      0\n",
       "1374  Limiting car usage has many advantages. Such a...      0\n",
       "1375  There's a new trend that has been developing f...      0\n",
       "1376  As we all know cars are a big part of our soci...      0\n",
       "1377  Cars have been around since the 1800's and hav...      0\n",
       "\n",
       "[1378 rows x 2 columns]"
      ]
     },
     "execution_count": 6,
     "metadata": {},
     "output_type": "execute_result"
    }
   ],
   "source": [
    "train_dataset"
   ]
  },
  {
   "cell_type": "code",
   "execution_count": 7,
   "metadata": {},
   "outputs": [],
   "source": [
    "curated_dataset = read_csv('artifacts/data_ingestion/data6/train_drcat_01.csv')[['text', 'label']].reset_index(drop=True)\n",
    "curated_dataset1 = read_csv('artifacts/data_ingestion/data6/train_drcat_02.csv')[['text', 'label']].reset_index(drop=True)\n",
    "curated_dataset2 = read_csv('artifacts/data_ingestion/data6/train_drcat_03.csv')[['text', 'label']].reset_index(drop=True)\n",
    "curated_dataset3 = read_csv('artifacts/data_ingestion/data6/train_drcat_04.csv')[['text', 'label']].reset_index(drop=True)\n",
    "\n",
    "curated_dataset4 = read_csv('artifacts/data_ingestion/data3/machine-train.csv')[['text']].reset_index(drop=True).assign(label=1)\n",
    "curated_dataset5 = read_csv('artifacts/data_ingestion/data3/machine-test.csv')[['text']].reset_index(drop=True).assign(label=1)\n",
    "\n",
    "curated_dataset6 = read_csv('artifacts/data_ingestion/data2/ai_generated_train_essays.csv')[['text']].reset_index(drop=True).assign(label=1)\n",
    "curated_dataset7 = read_csv('artifacts/data_ingestion/data2/ai_generated_train_essays_gpt-4.csv')[['text']].reset_index(drop=True).assign(label=1)\n",
    "\n",
    "curated_dataset9 = read_csv('artifacts/data_ingestion/data4/daigt_external_dataset.csv')[['text']].reset_index(drop=True).assign(label=1)\n",
    "curated_dataset10 = read_csv('artifacts/data_ingestion/data5/llama_70b_v1.csv')[['generated_text']].rename(columns={'generated_text' : 'text'}).reset_index(drop=True).assign(label=1)\n",
    "\n",
    "curated_dataset11 = read_csv('artifacts/data_ingestion/data5/falcon_180b_v1.csv')[['generated_text']].rename(columns={'generated_text' : 'text'}).reset_index(drop=True).assign(label=1)\n",
    "\n",
    "curated_dataset12 = read_csv('artifacts/data_ingestion/data7/train_v2_drcat_02.csv')[['text', 'label']].reset_index(drop=True)\n",
    "curated_dataset13 = read_csv('artifacts/data_ingestion/data8/persuade15_claude_instant1.csv')[['essay_text']].rename(columns={'essay_text' : 'text'}).reset_index(drop=True).assign(label=1)\n",
    "curated_dataset14 = read_csv('artifacts/data_ingestion/data9/LLM_generated_essay_PaLM.csv')[['text', 'generated']].rename(columns={'generated' : 'label'})\n",
    "curated_dataset15 = read_csv('artifacts/data_ingestion/data10/train_essays_RDizzl3_seven_v2.csv')[['text', 'label']].reset_index(drop=True)\n",
    "curated_dataset16 = read_csv('artifacts/data_ingestion/data10/train_essays_RDizzl3_seven_v1.csv')[['text', 'label']].reset_index(drop=True)\n",
    "curated_dataset17 = read_csv('artifacts/data_ingestion/data10/train_essays_7_prompts_v2.csv')[['text', 'label']].reset_index(drop=True)\n",
    "curated_dataset18 = read_csv('artifacts/data_ingestion/data10/train_essays_7_prompts.csv')[['text', 'label']].reset_index(drop=True)\n"
   ]
  },
  {
   "cell_type": "code",
   "execution_count": 17,
   "metadata": {},
   "outputs": [
    {
     "data": {
      "image/png": "[encoded data removed]",
      "text/plain": [
       "<Figure size 800x600 with 1 Axes>"
      ]
     },
     "metadata": {},
     "output_type": "display_data"
    }
   ],
   "source": [
    "import matplotlib.pyplot as plt\n",
    "import seaborn as sns\n",
    "from pandas import concat\n",
    "\n",
    "train_dataset = concat([train_dataset, \n",
    "                        curated_dataset, \n",
    "                        curated_dataset1,\n",
    "                        curated_dataset2,\n",
    "                        curated_dataset3,\n",
    "                        curated_dataset4, \n",
    "                        curated_dataset5, \n",
    "                        curated_dataset6, \n",
    "                        curated_dataset7, \n",
    "                        curated_dataset9, \n",
    "                        curated_dataset10, \n",
    "                        curated_dataset11,\n",
    "                        curated_dataset12, \n",
    "                        curated_dataset13, \n",
    "                        curated_dataset14,\n",
    "                        curated_dataset15,\n",
    "                        curated_dataset16,\n",
    "                        curated_dataset17, \n",
    "                        curated_dataset18])\n",
    "\n",
    "\n",
    "plt.figure(figsize=(8, 6))\n",
    "sns.countplot(x='label', data=train_dataset)\n",
    "plt.title('Class Distribution')\n",
    "plt.xlabel('Class')\n",
    "plt.ylabel('Count')\n",
    "plt.show()"
   ]
  },
  {
   "cell_type": "code",
   "execution_count": 18,
   "metadata": {},
   "outputs": [],
   "source": [
    "train_dataset.text = train_dataset.text.str.replace('\\n', ' ')"
   ]
  },
  {
   "cell_type": "code",
   "execution_count": 19,
   "metadata": {},
   "outputs": [
    {
     "data": {
      "text/html": [
       "<div>\n",
       "<style scoped>\n",
       "    .dataframe tbody tr th:only-of-type {\n",
       "        vertical-align: middle;\n",
       "    }\n",
       "\n",
       "    .dataframe tbody tr th {\n",
       "        vertical-align: top;\n",
       "    }\n",
       "\n",
       "    .dataframe thead th {\n",
       "        text-align: right;\n",
       "    }\n",
       "</style>\n",
       "<table border=\"1\" class=\"dataframe\">\n",
       "  <thead>\n",
       "    <tr style=\"text-align: right;\">\n",
       "      <th></th>\n",
       "      <th>text</th>\n",
       "      <th>label</th>\n",
       "    </tr>\n",
       "  </thead>\n",
       "  <tbody>\n",
       "    <tr>\n",
       "      <th>0</th>\n",
       "      <td>Cars. Cars have been around since they became ...</td>\n",
       "      <td>0.0</td>\n",
       "    </tr>\n",
       "    <tr>\n",
       "      <th>1</th>\n",
       "      <td>Transportation is a large necessity in most co...</td>\n",
       "      <td>0.0</td>\n",
       "    </tr>\n",
       "    <tr>\n",
       "      <th>2</th>\n",
       "      <td>\"America's love affair with it's vehicles seem...</td>\n",
       "      <td>0.0</td>\n",
       "    </tr>\n",
       "    <tr>\n",
       "      <th>3</th>\n",
       "      <td>How often do you ride in a car? Do you drive a...</td>\n",
       "      <td>0.0</td>\n",
       "    </tr>\n",
       "    <tr>\n",
       "      <th>4</th>\n",
       "      <td>Cars are a wonderful thing. They are perhaps o...</td>\n",
       "      <td>0.0</td>\n",
       "    </tr>\n",
       "  </tbody>\n",
       "</table>\n",
       "</div>"
      ],
      "text/plain": [
       "                                                text  label\n",
       "0  Cars. Cars have been around since they became ...    0.0\n",
       "1  Transportation is a large necessity in most co...    0.0\n",
       "2  \"America's love affair with it's vehicles seem...    0.0\n",
       "3  How often do you ride in a car? Do you drive a...    0.0\n",
       "4  Cars are a wonderful thing. They are perhaps o...    0.0"
      ]
     },
     "execution_count": 19,
     "metadata": {},
     "output_type": "execute_result"
    }
   ],
   "source": [
    "train_dataset.head()"
   ]
  },
  {
   "cell_type": "code",
   "execution_count": 20,
   "metadata": {},
   "outputs": [
    {
     "data": {
      "text/plain": [
       "label\n",
       "0.0    200039\n",
       "1.0     80432\n",
       "Name: count, dtype: int64"
      ]
     },
     "execution_count": 20,
     "metadata": {},
     "output_type": "execute_result"
    }
   ],
   "source": [
    "train_dataset.label.value_counts()"
   ]
  },
  {
   "cell_type": "code",
   "execution_count": 21,
   "metadata": {},
   "outputs": [],
   "source": [
    "from tensorflow.keras.layers import TextVectorization\n",
    "\n",
    "tokenizer = TextVectorization(output_mode='int', output_sequence_length=512, standardize=None, ngrams=1)"
   ]
  },
  {
   "cell_type": "code",
   "execution_count": null,
   "metadata": {},
   "outputs": [],
   "source": [
    "tokenizer.adapt(train_dataset.text)"
   ]
  },
  {
   "cell_type": "code",
   "execution_count": 23,
   "metadata": {},
   "outputs": [
    {
     "data": {
      "text/plain": [
       "2"
      ]
     },
     "execution_count": 23,
     "metadata": {},
     "output_type": "execute_result"
    }
   ],
   "source": [
    "VOCAB_SIZE = len(tokenizer.get_vocabulary())\n",
    "VOCAB_SIZE"
   ]
  },
  {
   "cell_type": "code",
   "execution_count": null,
   "metadata": {},
   "outputs": [],
   "source": [
    "import tensorflow as tf\n",
    "from tensorflow.keras import Sequential\n",
    "from tensorflow.keras.layers import Layer, LayerNormalization, GroupNormalization, Dense, SimpleRNNCell, RNN, LSTM, Bidirectional, LSTMCell\n",
    "import torch\n",
    "from itertools import repeat\n",
    "\n",
    "import tensorflow as tf\n",
    "from tensorflow.keras.layers import Layer, LayerNormalization, Dense, SimpleRNNCell, RNN, LSTM, Bidirectional, LSTMCell\n",
    "\n",
    "class RecurrentRetention(tf.compat.v1.nn.rnn_cell.RNNCell):\n",
    "    def __init__(self,\n",
    "                 input_size,\n",
    "                 hidden_size=32,\n",
    "                 gamma=0.984375,\n",
    "                 trainable=True,\n",
    "                 dtype=None,\n",
    "                 **kwargs):\n",
    "        super(RecurrentRetention, self).__init__(trainable=trainable,\n",
    "                                        dtype=dtype,\n",
    "                                        **kwargs)\n",
    "        self.input_size = input_size\n",
    "        self.hidden_size = hidden_size\n",
    "        self.r_layers = {\n",
    "            'Q' : Dense(hidden_size),\n",
    "            'K' : Dense(hidden_size),\n",
    "            'V' : Dense(hidden_size)\n",
    "        }\n",
    "\n",
    "        self.gamma = tf.Variable(gamma, trainable=True)\n",
    "\n",
    "    @property\n",
    "    def state_size(self):\n",
    "        return tf.TensorShape([self.hidden_size, self.hidden_size])\n",
    "\n",
    "    @property\n",
    "    def output_size(self):\n",
    "        return self.hidden_size\n",
    "\n",
    "    def call(self, inputs, state):\n",
    "      q, k, v = [tf.cast(f(inputs), tf.float32) for f in self.r_layers.values()]\n",
    "      s = self.gamma*state + tf.linalg.matmul(k, v, transpose_a=True)#tf.transpose(k, perm=[1, 0])@v\n",
    "      x = tf.einsum('bi, bzk -> bk', q, s)\n",
    "      return x, s\n",
    "\n",
    "\n",
    "class FeedForward(tf.keras.layers.Layer):\n",
    "  def __init__(self, d_model, dff, dropout_rate=0.3, activation='gelu'):\n",
    "    super().__init__()\n",
    "    self.seq = tf.keras.Sequential([\n",
    "      tf.keras.layers.Dense(dff, activation=activation),\n",
    "      tf.keras.layers.Dense(d_model),\n",
    "      tf.keras.layers.Dropout(dropout_rate)\n",
    "    ])\n",
    "\n",
    "  def call(self, x):\n",
    "    return self.seq(x)\n",
    "\n",
    "\n",
    "class Retention(Layer):\n",
    "    def __init__(self, dim=128, gamma = 0.9865, **kwargs):\n",
    "        super().__init__()\n",
    "        _dense_kwargs = {\n",
    "                \"use_bias\" : True,\n",
    "                \"dtype\" : \"float32\"\n",
    "                }\n",
    "        self._qkv_layers = [Dense(dim, **_dense_kwargs),\n",
    "                            Dense(dim, **_dense_kwargs),\n",
    "                            Dense(dim, **_dense_kwargs)]\n",
    "        self.gamma = gamma\n",
    "\n",
    "    def call(self, x, training=False):\n",
    "        Q, K, V = [f(z) for f, z in zip(self._qkv_layers, x)]\n",
    "        _, s, d = Q.shape\n",
    "        #b = b if b is not None else 1\n",
    "        x = Q@tf.transpose(K, perm=[0, 2, 1])\n",
    "        x /= d**0.5 #Normalization Trick 1\n",
    "        D = self._compute_decay(s, self.gamma)\n",
    "        D /= tf.reduce_sum(D, -1)**0.5 #Normalization Trick 2\n",
    "        #D = tf.stack([*repeat(D, b)])\n",
    "        x = x*D\n",
    "        _norm_3 = lambda xs: xs/tf.maximum(tf.abs(tf.math.reduce_sum(xs, -1)), 1)\n",
    "        x = tf.vectorized_map(_norm_3, x) #Normalization Trick 3\n",
    "        x = x@V\n",
    "        return x\n",
    "\n",
    "    def _compute_decay(self, seq_len, gamma = 0.96875):\n",
    "        _indices = list(range(0, seq_len))\n",
    "        _decay_factors = [gamma**(i-j) if i>=j else 0 for i in _indices for j in _indices]\n",
    "        D = tf.reshape(tf.convert_to_tensor(_decay_factors, dtype='float32'), (seq_len, seq_len))\n",
    "        #mask = tf.eye(seq_len, dtype=tf.float32)\n",
    "        #mask += tf.roll(mask, shift=-1, axis=-1)+tf.roll(mask, shift=-2, axis=-1)\n",
    "        return D#*mask\n",
    "\n",
    "class MultiScaleRetention(Layer):\n",
    "    def __init__(self, dim, hdim=100, retention_layer=Retention, **kwargs):\n",
    "      super(MultiScaleRetention, self).__init__()\n",
    "      gamma = 1 - (2 ** (-5 - torch.arange(0, dim//hdim).float()))\n",
    "      gamma = gamma.numpy().tolist()\n",
    "      self.dim = dim\n",
    "      self.hdim = hdim\n",
    "      self.heads = [retention_layer(dim=hdim, gamma=gamma[head], **kwargs) for head in range(dim // hdim)]#\n",
    "      self.gn = GroupNormalization(dim)#//hdim, scale=False)\n",
    "      self.wg = Sequential([\n",
    "            Dense(dim, use_bias=True, activation = 'swish', **kwargs),\n",
    "        ])\n",
    "      self.wo = Dense(dim, use_bias=True, **kwargs)\n",
    "\n",
    "    def call(self, q, k, v):\n",
    "      W = self.wg(q)\n",
    "      #q, k, v = list(map(lambda val: tf.split(val, self.dim//self.hdim, 2), x))\n",
    "      x = [headi([q, k, v]) for headi in self.heads]\n",
    "      x = tf.concat(x, -1)\n",
    "      Y = self.gn(x)\n",
    "      x = self.wo(W * Y)\n",
    "      return x\n",
    "\n",
    "class RetentionEncoder(Layer):\n",
    "    def __init__(self, dim=540, hdim=100, retention_layer=Retention, **kwargs):\n",
    "        super().__init__()\n",
    "        self.layer_norm = LayerNormalization()\n",
    "        self.msr = MultiScaleRetention(dim, hdim, retention_layer=retention_layer)\n",
    "        self.layer_norm1 = LayerNormalization()\n",
    "        self.ffn = FeedForward(dim, dim*4)\n",
    "\n",
    "    def call(self, x, training=False):\n",
    "      xn = self.layer_norm(x)\n",
    "      msr_x = self.msr(xn, xn, xn) + x\n",
    "      x = self.ffn(self.layer_norm1(msr_x)) + msr_x\n",
    "      return x"
   ]
  },
  {
   "cell_type": "code",
   "execution_count": null,
   "metadata": {},
   "outputs": [],
   "source": []
  }
 ],
 "metadata": {
  "kernelspec": {
   "display_name": "RG_env",
   "language": "python",
   "name": "python3"
  },
  "language_info": {
   "codemirror_mode": {
    "name": "ipython",
    "version": 3
   },
   "file_extension": ".py",
   "mimetype": "text/x-python",
   "name": "python",
   "nbconvert_exporter": "python",
   "pygments_lexer": "ipython3",
   "version": "3.10.14"
  }
 },
 "nbformat": 4,
 "nbformat_minor": 2
}
