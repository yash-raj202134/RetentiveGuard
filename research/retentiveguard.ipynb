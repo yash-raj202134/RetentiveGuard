{
 "cells": [
  {
   "cell_type": "markdown",
   "id": "ed9deb63",
   "metadata": {
    "_cell_guid": "b1076dfc-b9ad-4769-8c92-a6c4dae69d19",
    "_uuid": "8f2839f25d086af736a60e9eeb907d3b93b6e0e5",
    "execution": {
     "iopub.execute_input": "2023-11-30T16:41:48.192068Z",
     "iopub.status.busy": "2023-11-30T16:41:48.191729Z",
     "iopub.status.idle": "2023-11-30T16:41:48.196812Z",
     "shell.execute_reply": "2023-11-30T16:41:48.195925Z",
     "shell.execute_reply.started": "2023-11-30T16:41:48.192038Z"
    },
    "papermill": {
     "duration": 0.012447,
     "end_time": "2024-02-07T08:50:58.710005",
     "exception": false,
     "start_time": "2024-02-07T08:50:58.697558",
     "status": "completed"
    },
    "tags": []
   },
   "source": [
    "~<_RetentiveGuard: Unmasking LLM-Generated Essays_>~ ~<_RetentiveGuard: Unmasking LLM-Generated Essays_>~ ~<_RetentiveGuard: Unmasking LLM-Generated Essays_>~"
   ]
  },
  {
   "cell_type": "markdown",
   "id": "43edc541",
   "metadata": {
    "papermill": {
     "duration": 0.014893,
     "end_time": "2024-02-07T08:50:58.737189",
     "exception": false,
     "start_time": "2024-02-07T08:50:58.722296",
     "status": "completed"
    },
    "tags": []
   },
   "source": [
    "# RETENTIVEGUARD: UNMASKING LLM-GENERATED ESSAYS"
   ]
  },
  {
   "cell_type": "markdown",
   "id": "dc0eef57",
   "metadata": {
    "papermill": {
     "duration": 0.011469,
     "end_time": "2024-02-07T08:50:58.760379",
     "exception": false,
     "start_time": "2024-02-07T08:50:58.748910",
     "status": "completed"
    },
    "tags": []
   },
   "source": [
    "~<_RetentiveGuard: Unmasking LLM-Generated Essays_>~ ~<_RetentiveGuard: Unmasking LLM-Generated Essays_>~ ~<_RetentiveGuard: Unmasking LLM-Generated Essays_>~"
   ]
  },
  {
   "cell_type": "markdown",
   "id": "046858f3",
   "metadata": {
    "papermill": {
     "duration": 0.011336,
     "end_time": "2024-02-07T08:50:58.784450",
     "exception": false,
     "start_time": "2024-02-07T08:50:58.773114",
     "status": "completed"
    },
    "tags": []
   },
   "source": [
    "![](data:image/jpeg;base64,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)"
   ]
  },
  {
   "cell_type": "markdown",
   "id": "d5f6e863",
   "metadata": {
    "papermill": {
     "duration": 0.011361,
     "end_time": "2024-02-07T08:50:58.807485",
     "exception": false,
     "start_time": "2024-02-07T08:50:58.796124",
     "status": "completed"
    },
    "tags": []
   },
   "source": [
    "---\n",
    "## 1. DATA AQUISITION \n",
    "---"
   ]
  },
  {
   "cell_type": "markdown",
   "id": "5c05f65d",
   "metadata": {
    "papermill": {
     "duration": 0.011444,
     "end_time": "2024-02-07T08:50:58.831212",
     "exception": false,
     "start_time": "2024-02-07T08:50:58.819768",
     "status": "completed"
    },
    "tags": []
   },
   "source": [
    "---\n",
    "### 1.1 IMPORTING LIBRARIES & LOADING THE DATASET\n",
    "---"
   ]
  },
  {
   "cell_type": "markdown",
   "id": "fd769c80",
   "metadata": {
    "papermill": {
     "duration": 0.011455,
     "end_time": "2024-02-07T08:50:58.854414",
     "exception": false,
     "start_time": "2024-02-07T08:50:58.842959",
     "status": "completed"
    },
    "tags": []
   },
   "source": [
    "- Importing the necessary libraries for data manipulation using Pandas.\n",
    "- Reading a CSV file named `train_essays.csv` containing essay data.\n",
    "- Selecting specific columns ('text' and 'generated') from the dataset.\n",
    "- Renaming the 'generated' column to 'label' for clarity in later analysis."
   ]
  },
  {
   "cell_type": "code",
   "execution_count": 1,
   "id": "67b1793c",
   "metadata": {
    "execution": {
     "iopub.execute_input": "2024-02-07T08:50:58.879636Z",
     "iopub.status.busy": "2024-02-07T08:50:58.879115Z",
     "iopub.status.idle": "2024-02-07T08:50:59.871137Z",
     "shell.execute_reply": "2024-02-07T08:50:59.870170Z"
    },
    "papermill": {
     "duration": 1.007471,
     "end_time": "2024-02-07T08:50:59.873498",
     "exception": false,
     "start_time": "2024-02-07T08:50:58.866027",
     "status": "completed"
    },
    "tags": []
   },
   "outputs": [],
   "source": [
    "from pandas import read_csv\n",
    "\n",
    "\n",
    "train_dataset = read_csv('../input/llm-detect-ai-generated-text/train_essays.csv')[['text', 'generated']].rename(columns={'generated' : 'label'})"
   ]
  },
  {
   "cell_type": "markdown",
   "id": "5079d7ce",
   "metadata": {
    "papermill": {
     "duration": 0.011747,
     "end_time": "2024-02-07T08:50:59.897029",
     "exception": false,
     "start_time": "2024-02-07T08:50:59.885282",
     "status": "completed"
    },
    "tags": []
   },
   "source": [
    "---\n",
    "### 1.2 PREPARING DATASETS\n",
    "---"
   ]
  },
  {
   "cell_type": "markdown",
   "id": "a250c684",
   "metadata": {
    "papermill": {
     "duration": 0.011157,
     "end_time": "2024-02-07T08:50:59.919713",
     "exception": false,
     "start_time": "2024-02-07T08:50:59.908556",
     "status": "completed"
    },
    "tags": []
   },
   "source": [
    "- Loading datasets from various sources using the Pandas library.\n",
    "- Selecting relevant columns ('text' and 'label') from all the datasets.\n",
    "- Assigning labels to certain datasets to indicate their origin or nature.\n",
    "- Combining and resetting the index of the datasets for consistency.\n",
    "- Creating a set of curated datasets for subsequent analysis and model training."
   ]
  },
  {
   "cell_type": "code",
   "execution_count": 2,
   "id": "9e87e40d",
   "metadata": {
    "execution": {
     "iopub.execute_input": "2024-02-07T08:50:59.945153Z",
     "iopub.status.busy": "2024-02-07T08:50:59.944766Z",
     "iopub.status.idle": "2024-02-07T08:51:19.270054Z",
     "shell.execute_reply": "2024-02-07T08:51:19.268848Z"
    },
    "papermill": {
     "duration": 19.341814,
     "end_time": "2024-02-07T08:51:19.273058",
     "exception": false,
     "start_time": "2024-02-07T08:50:59.931244",
     "status": "completed"
    },
    "tags": []
   },
   "outputs": [],
   "source": [
    "curated_dataset = read_csv('../input/daigt-proper-train-dataset/train_drcat_01.csv')[['text', 'label']].reset_index(drop=True)\n",
    "curated_dataset1 = read_csv('../input/daigt-proper-train-dataset/train_drcat_02.csv')[['text', 'label']].reset_index(drop=True)\n",
    "curated_dataset2 = read_csv('../input/daigt-proper-train-dataset/train_drcat_03.csv')[['text', 'label']].reset_index(drop=True)\n",
    "curated_dataset3 = read_csv('../input/daigt-proper-train-dataset/train_drcat_04.csv')[['text', 'label']].reset_index(drop=True)\n",
    "\n",
    "curated_dataset4 = read_csv('../input/argugpt/machine-train.csv')[['text']].reset_index(drop=True).assign(label=1)\n",
    "curated_dataset5 = read_csv('../input/argugpt/machine-test.csv')[['text']].reset_index(drop=True).assign(label=1)\n",
    "\n",
    "curated_dataset6 = read_csv('../input/llm-generated-essays/ai_generated_train_essays.csv')[['text']].reset_index(drop=True).assign(label=1)\n",
    "curated_dataset7 = read_csv('../input/llm-generated-essays/ai_generated_train_essays_gpt-4.csv')[['text']].reset_index(drop=True).assign(label=1)\n",
    "\n",
    "curated_dataset9 = read_csv('/kaggle/input/daigt-external-dataset/daigt_external_dataset.csv')[['text']].reset_index(drop=True).assign(label=1)\n",
    "curated_dataset10 = read_csv('/kaggle/input/daigt-data-llama-70b-and-falcon180b/llama_70b_v1.csv')[['generated_text']].rename(columns={'generated_text' : 'text'}).reset_index(drop=True).assign(label=1)\n",
    "\n",
    "curated_dataset11 = read_csv('/kaggle/input/daigt-data-llama-70b-and-falcon180b/falcon_180b_v1.csv')[['generated_text']].rename(columns={'generated_text' : 'text'}).reset_index(drop=True).assign(label=1)\n",
    "\n",
    "curated_dataset12 = read_csv('/kaggle/input/daigt-v2-train-dataset/train_v2_drcat_02.csv')[['text', 'label']].reset_index(drop=True)\n",
    "curated_dataset13 = read_csv('/kaggle/input/hello-claude-1000-essays-from-anthropic/persuade15_claude_instant1.csv')[['essay_text']].rename(columns={'essay_text' : 'text'}).reset_index(drop=True).assign(label=1)\n",
    "curated_dataset14 = read_csv('/kaggle/input/llm-generated-essay-using-palm-from-google-gen-ai/LLM_generated_essay_PaLM.csv')[['text', 'generated']].rename(columns={'generated' : 'label'})\n",
    "curated_dataset15 = read_csv('/kaggle/input/llm-7-prompt-training-dataset/train_essays_RDizzl3_seven_v2.csv')[['text', 'label']].reset_index(drop=True)\n",
    "curated_dataset16 = read_csv('/kaggle/input/llm-7-prompt-training-dataset/train_essays_RDizzl3_seven_v1.csv')[['text', 'label']].reset_index(drop=True)\n",
    "curated_dataset17 = read_csv('/kaggle/input/llm-7-prompt-training-dataset/train_essays_7_prompts_v2.csv')[['text', 'label']].reset_index(drop=True)\n",
    "curated_dataset18 = read_csv('/kaggle/input/llm-7-prompt-training-dataset/train_essays_7_prompts.csv')[['text', 'label']].reset_index(drop=True)\n"
   ]
  },
  {
   "cell_type": "markdown",
   "id": "7ccfe6b8",
   "metadata": {
    "papermill": {
     "duration": 0.011401,
     "end_time": "2024-02-07T08:51:19.296016",
     "exception": false,
     "start_time": "2024-02-07T08:51:19.284615",
     "status": "completed"
    },
    "tags": []
   },
   "source": [
    "---\n",
    "### 1.3 COMBINING DATASETS\n",
    "---"
   ]
  },
  {
   "cell_type": "markdown",
   "id": "10f47b66",
   "metadata": {
    "papermill": {
     "duration": 0.011281,
     "end_time": "2024-02-07T08:51:19.318911",
     "exception": false,
     "start_time": "2024-02-07T08:51:19.307630",
     "status": "completed"
    },
    "tags": []
   },
   "source": [
    "- Importing the `concat` function from the Pandas library.\n",
    "- Concatenating (stacking vertically) several curated datasets.\n",
    "- Creating a unified `train_dataset` that incorporates data from diverse origins.."
   ]
  },
  {
   "cell_type": "code",
   "execution_count": 3,
   "id": "a4c64e77",
   "metadata": {
    "execution": {
     "iopub.execute_input": "2024-02-07T08:51:19.344201Z",
     "iopub.status.busy": "2024-02-07T08:51:19.343293Z",
     "iopub.status.idle": "2024-02-07T08:51:21.069155Z",
     "shell.execute_reply": "2024-02-07T08:51:21.067998Z"
    },
    "papermill": {
     "duration": 1.741117,
     "end_time": "2024-02-07T08:51:21.071578",
     "exception": false,
     "start_time": "2024-02-07T08:51:19.330461",
     "status": "completed"
    },
    "tags": []
   },
   "outputs": [
    {
     "data": {
      "image/png": "[encoded data removed]",
      "text/plain": [
       "<Figure size 800x600 with 1 Axes>"
      ]
     },
     "metadata": {},
     "output_type": "display_data"
    }
   ],
   "source": [
    "import matplotlib.pyplot as plt\n",
    "import seaborn as sns\n",
    "from pandas import concat\n",
    "\n",
    "train_dataset = concat([train_dataset, \n",
    "                        curated_dataset, \n",
    "                        curated_dataset1,\n",
    "                        curated_dataset2,\n",
    "                        curated_dataset3,\n",
    "                        curated_dataset4, \n",
    "                        curated_dataset5, \n",
    "                        curated_dataset6, \n",
    "                        curated_dataset7, \n",
    "                        curated_dataset9, \n",
    "                        curated_dataset10, \n",
    "                        curated_dataset11,\n",
    "                        curated_dataset12, \n",
    "                        curated_dataset13, \n",
    "                        curated_dataset14,\n",
    "                        curated_dataset15,\n",
    "                        curated_dataset16,\n",
    "                        curated_dataset17, \n",
    "                        curated_dataset18])\n",
    "\n",
    "\n",
    "plt.figure(figsize=(8, 6))\n",
    "sns.countplot(x='label', data=train_dataset)\n",
    "plt.title('Class Distribution')\n",
    "plt.xlabel('Class')\n",
    "plt.ylabel('Count')\n",
    "plt.show()"
   ]
  },
  {
   "cell_type": "markdown",
   "id": "bf56af78",
   "metadata": {
    "papermill": {
     "duration": 0.011886,
     "end_time": "2024-02-07T08:51:21.095586",
     "exception": false,
     "start_time": "2024-02-07T08:51:21.083700",
     "status": "completed"
    },
    "tags": []
   },
   "source": [
    "---\n",
    "## 2. PREPROCESSING DATA\n",
    "---"
   ]
  },
  {
   "cell_type": "markdown",
   "id": "30115906",
   "metadata": {
    "papermill": {
     "duration": 0.012388,
     "end_time": "2024-02-07T08:51:21.120120",
     "exception": false,
     "start_time": "2024-02-07T08:51:21.107732",
     "status": "completed"
    },
    "tags": []
   },
   "source": [
    "---\n",
    "### 2.1 CLEANING\n",
    "---"
   ]
  },
  {
   "cell_type": "markdown",
   "id": "6417c33c",
   "metadata": {
    "papermill": {
     "duration": 0.011726,
     "end_time": "2024-02-07T08:51:21.144310",
     "exception": false,
     "start_time": "2024-02-07T08:51:21.132584",
     "status": "completed"
    },
    "tags": []
   },
   "source": [
    "- Accessing the 'text' column in the `train_dataset` DataFrame.\n",
    "- Using the `.str.replace('\\n', ' ')` method to replace newline characters (`'\\n'`) with spaces.\n",
    "- To ensure uniformity and consistency in the text data."
   ]
  },
  {
   "cell_type": "code",
   "execution_count": 4,
   "id": "fa1dc3d6",
   "metadata": {
    "execution": {
     "iopub.execute_input": "2024-02-07T08:51:21.169872Z",
     "iopub.status.busy": "2024-02-07T08:51:21.169451Z",
     "iopub.status.idle": "2024-02-07T08:51:22.013785Z",
     "shell.execute_reply": "2024-02-07T08:51:22.012712Z"
    },
    "papermill": {
     "duration": 0.859994,
     "end_time": "2024-02-07T08:51:22.016213",
     "exception": false,
     "start_time": "2024-02-07T08:51:21.156219",
     "status": "completed"
    },
    "tags": []
   },
   "outputs": [],
   "source": [
    "train_dataset.text = train_dataset.text.str.replace('\\n', ' ')"
   ]
  },
  {
   "cell_type": "markdown",
   "id": "c5d12e31",
   "metadata": {
    "papermill": {
     "duration": 0.01187,
     "end_time": "2024-02-07T08:51:22.040861",
     "exception": false,
     "start_time": "2024-02-07T08:51:22.028991",
     "status": "completed"
    },
    "tags": []
   },
   "source": [
    "---\n",
    "### 2.2 LOOKING AT THE DATASET\n",
    "---"
   ]
  },
  {
   "cell_type": "code",
   "execution_count": 5,
   "id": "a815a416",
   "metadata": {
    "execution": {
     "iopub.execute_input": "2024-02-07T08:51:22.066855Z",
     "iopub.status.busy": "2024-02-07T08:51:22.066467Z",
     "iopub.status.idle": "2024-02-07T08:51:22.082219Z",
     "shell.execute_reply": "2024-02-07T08:51:22.080894Z"
    },
    "papermill": {
     "duration": 0.032015,
     "end_time": "2024-02-07T08:51:22.085046",
     "exception": false,
     "start_time": "2024-02-07T08:51:22.053031",
     "status": "completed"
    },
    "tags": []
   },
   "outputs": [
    {
     "data": {
      "text/html": [
       "<div>\n",
       "<style scoped>\n",
       "    .dataframe tbody tr th:only-of-type {\n",
       "        vertical-align: middle;\n",
       "    }\n",
       "\n",
       "    .dataframe tbody tr th {\n",
       "        vertical-align: top;\n",
       "    }\n",
       "\n",
       "    .dataframe thead th {\n",
       "        text-align: right;\n",
       "    }\n",
       "</style>\n",
       "<table border=\"1\" class=\"dataframe\">\n",
       "  <thead>\n",
       "    <tr style=\"text-align: right;\">\n",
       "      <th></th>\n",
       "      <th>text</th>\n",
       "      <th>label</th>\n",
       "    </tr>\n",
       "  </thead>\n",
       "  <tbody>\n",
       "    <tr>\n",
       "      <th>0</th>\n",
       "      <td>Cars. Cars have been around since they became ...</td>\n",
       "      <td>0.0</td>\n",
       "    </tr>\n",
       "    <tr>\n",
       "      <th>1</th>\n",
       "      <td>Transportation is a large necessity in most co...</td>\n",
       "      <td>0.0</td>\n",
       "    </tr>\n",
       "    <tr>\n",
       "      <th>2</th>\n",
       "      <td>\"America's love affair with it's vehicles seem...</td>\n",
       "      <td>0.0</td>\n",
       "    </tr>\n",
       "    <tr>\n",
       "      <th>3</th>\n",
       "      <td>How often do you ride in a car? Do you drive a...</td>\n",
       "      <td>0.0</td>\n",
       "    </tr>\n",
       "    <tr>\n",
       "      <th>4</th>\n",
       "      <td>Cars are a wonderful thing. They are perhaps o...</td>\n",
       "      <td>0.0</td>\n",
       "    </tr>\n",
       "  </tbody>\n",
       "</table>\n",
       "</div>"
      ],
      "text/plain": [
       "                                                text  label\n",
       "0  Cars. Cars have been around since they became ...    0.0\n",
       "1  Transportation is a large necessity in most co...    0.0\n",
       "2  \"America's love affair with it's vehicles seem...    0.0\n",
       "3  How often do you ride in a car? Do you drive a...    0.0\n",
       "4  Cars are a wonderful thing. They are perhaps o...    0.0"
      ]
     },
     "execution_count": 5,
     "metadata": {},
     "output_type": "execute_result"
    }
   ],
   "source": [
    "train_dataset.head()"
   ]
  },
  {
   "cell_type": "markdown",
   "id": "5a4ca131",
   "metadata": {
    "papermill": {
     "duration": 0.011875,
     "end_time": "2024-02-07T08:51:22.109366",
     "exception": false,
     "start_time": "2024-02-07T08:51:22.097491",
     "status": "completed"
    },
    "tags": []
   },
   "source": [
    "---\n",
    "### 2.3 CHECKING DITRITBUTION OF LABELS\n",
    "---"
   ]
  },
  {
   "cell_type": "markdown",
   "id": "1be7af72",
   "metadata": {
    "papermill": {
     "duration": 0.074225,
     "end_time": "2024-02-07T08:51:22.195820",
     "exception": false,
     "start_time": "2024-02-07T08:51:22.121595",
     "status": "completed"
    },
    "tags": []
   },
   "source": [
    "---\n",
    "- Using the Pandas `value_counts()` method on the 'label' column.\n",
    "- This method counts the occurrences of each unique label in the dataset.\n",
    "- The output provides a summary, indicating how many instances belong to each unique label.\n",
    "- Useful for understanding the balance or imbalance in the dataset and for making informed decisions during model training.\n",
    "---"
   ]
  },
  {
   "cell_type": "code",
   "execution_count": 6,
   "id": "1c502102",
   "metadata": {
    "execution": {
     "iopub.execute_input": "2024-02-07T08:51:22.223571Z",
     "iopub.status.busy": "2024-02-07T08:51:22.223178Z",
     "iopub.status.idle": "2024-02-07T08:51:22.239550Z",
     "shell.execute_reply": "2024-02-07T08:51:22.238160Z"
    },
    "papermill": {
     "duration": 0.033017,
     "end_time": "2024-02-07T08:51:22.241773",
     "exception": false,
     "start_time": "2024-02-07T08:51:22.208756",
     "status": "completed"
    },
    "tags": []
   },
   "outputs": [
    {
     "data": {
      "text/plain": [
       "label\n",
       "0.0    200039\n",
       "1.0     80432\n",
       "Name: count, dtype: int64"
      ]
     },
     "execution_count": 6,
     "metadata": {},
     "output_type": "execute_result"
    }
   ],
   "source": [
    "train_dataset.label.value_counts()"
   ]
  },
  {
   "cell_type": "markdown",
   "id": "18436aa4",
   "metadata": {
    "papermill": {
     "duration": 0.012115,
     "end_time": "2024-02-07T08:51:22.266555",
     "exception": false,
     "start_time": "2024-02-07T08:51:22.254440",
     "status": "completed"
    },
    "tags": []
   },
   "source": [
    "---\n",
    "###  2.4 VECTORIZING TEXTUAL DATA\n",
    "---"
   ]
  },
  {
   "cell_type": "markdown",
   "id": "54b07218",
   "metadata": {
    "papermill": {
     "duration": 0.012064,
     "end_time": "2024-02-07T08:51:22.290964",
     "exception": false,
     "start_time": "2024-02-07T08:51:22.278900",
     "status": "completed"
    },
    "tags": []
   },
   "source": [
    "---\n",
    "- Importing the `TextVectorization` layer from TensorFlow's Keras library.\n",
    "- Initializing a `TextVectorization` object named `tokenizer`.\n",
    "- Setting parameters for the tokenizer:\n",
    "      - `output_mode='int'`: Specifies that the output of the tokenizer will be integer-encoded.\n",
    "      - `output_sequence_length=512`: Defines the fixed length of the output sequences.\n",
    "      - `standardize=None`: Disabling standardization to keep the original text.\n",
    "      - `ngrams=1`: Configuring unigram tokenization.\n",
    "---"
   ]
  },
  {
   "cell_type": "code",
   "execution_count": 7,
   "id": "acdc7fdb",
   "metadata": {
    "execution": {
     "iopub.execute_input": "2024-02-07T08:51:22.317555Z",
     "iopub.status.busy": "2024-02-07T08:51:22.317162Z",
     "iopub.status.idle": "2024-02-07T08:51:36.726733Z",
     "shell.execute_reply": "2024-02-07T08:51:36.725503Z"
    },
    "papermill": {
     "duration": 14.426304,
     "end_time": "2024-02-07T08:51:36.729580",
     "exception": false,
     "start_time": "2024-02-07T08:51:22.303276",
     "status": "completed"
    },
    "tags": []
   },
   "outputs": [
    {
     "name": "stderr",
     "output_type": "stream",
     "text": [
      "2024-02-07 08:51:24.544213: E external/local_xla/xla/stream_executor/cuda/cuda_dnn.cc:9261] Unable to register cuDNN factory: Attempting to register factory for plugin cuDNN when one has already been registered\n",
      "2024-02-07 08:51:24.544354: E external/local_xla/xla/stream_executor/cuda/cuda_fft.cc:607] Unable to register cuFFT factory: Attempting to register factory for plugin cuFFT when one has already been registered\n",
      "2024-02-07 08:51:24.705199: E external/local_xla/xla/stream_executor/cuda/cuda_blas.cc:1515] Unable to register cuBLAS factory: Attempting to register factory for plugin cuBLAS when one has already been registered\n"
     ]
    }
   ],
   "source": [
    "from tensorflow.keras.layers import TextVectorization\n",
    "\n",
    "tokenizer = TextVectorization(output_mode='int', output_sequence_length=512, standardize=None, ngrams=1)"
   ]
  },
  {
   "cell_type": "markdown",
   "id": "65d524cd",
   "metadata": {
    "papermill": {
     "duration": 0.012347,
     "end_time": "2024-02-07T08:51:36.754562",
     "exception": false,
     "start_time": "2024-02-07T08:51:36.742215",
     "status": "completed"
    },
    "tags": []
   },
   "source": [
    "---\n",
    "### 2.5 ADAPTING THE VECTORIZATION LAYER\n",
    "---"
   ]
  },
  {
   "cell_type": "markdown",
   "id": "ee73e786",
   "metadata": {
    "papermill": {
     "duration": 0.012153,
     "end_time": "2024-02-07T08:51:36.779302",
     "exception": false,
     "start_time": "2024-02-07T08:51:36.767149",
     "status": "completed"
    },
    "tags": []
   },
   "source": [
    "---\n",
    "- Using the `adapt` method of the `TextVectorization` layer.\n",
    "- Passing the 'text' column of the training dataset (`train_dataset.text`) to the `adapt` method.\n",
    "- The layer learns important parameters such as the vocabulary (unique tokens) and their indices during this adaptation process.\n",
    "- Adapting the tokenizer to the training data ensures consistency in tokenization and vectorization when the model is later applied to new, unseen data.\n",
    "---"
   ]
  },
  {
   "cell_type": "code",
   "execution_count": 8,
   "id": "8bf06891",
   "metadata": {
    "execution": {
     "iopub.execute_input": "2024-02-07T08:51:36.806503Z",
     "iopub.status.busy": "2024-02-07T08:51:36.805859Z",
     "iopub.status.idle": "2024-02-07T08:52:59.877289Z",
     "shell.execute_reply": "2024-02-07T08:52:59.876071Z"
    },
    "papermill": {
     "duration": 83.088279,
     "end_time": "2024-02-07T08:52:59.880092",
     "exception": false,
     "start_time": "2024-02-07T08:51:36.791813",
     "status": "completed"
    },
    "tags": []
   },
   "outputs": [],
   "source": [
    "tokenizer.adapt(train_dataset.text)"
   ]
  },
  {
   "cell_type": "markdown",
   "id": "fd865c70",
   "metadata": {
    "papermill": {
     "duration": 0.012138,
     "end_time": "2024-02-07T08:52:59.905155",
     "exception": false,
     "start_time": "2024-02-07T08:52:59.893017",
     "status": "completed"
    },
    "tags": []
   },
   "source": [
    "---\n",
    "## 3. MODEL CONFIGURATION\n",
    "---"
   ]
  },
  {
   "cell_type": "markdown",
   "id": "9fb53237",
   "metadata": {
    "papermill": {
     "duration": 0.012307,
     "end_time": "2024-02-07T08:52:59.929893",
     "exception": false,
     "start_time": "2024-02-07T08:52:59.917586",
     "status": "completed"
    },
    "tags": []
   },
   "source": [
    "---\n",
    "### 3.1 DETERMINING SIZE OF VOCABULARY LEARNED\n",
    "---"
   ]
  },
  {
   "cell_type": "markdown",
   "id": "8cbbd611",
   "metadata": {
    "papermill": {
     "duration": 0.012529,
     "end_time": "2024-02-07T08:52:59.956723",
     "exception": false,
     "start_time": "2024-02-07T08:52:59.944194",
     "status": "completed"
    },
    "tags": []
   },
   "source": [
    "- Using the `get_vocabulary()` method to retrieve the vocabulary learned by the tokenizer during the adaptation phase.\n",
    "- Computing the length of the vocabulary by applying the `len()` function."
   ]
  },
  {
   "cell_type": "code",
   "execution_count": 9,
   "id": "6da58ff3",
   "metadata": {
    "execution": {
     "iopub.execute_input": "2024-02-07T08:52:59.983324Z",
     "iopub.status.busy": "2024-02-07T08:52:59.982951Z",
     "iopub.status.idle": "2024-02-07T08:53:03.768631Z",
     "shell.execute_reply": "2024-02-07T08:53:03.767544Z"
    },
    "papermill": {
     "duration": 3.801995,
     "end_time": "2024-02-07T08:53:03.771104",
     "exception": false,
     "start_time": "2024-02-07T08:52:59.969109",
     "status": "completed"
    },
    "tags": []
   },
   "outputs": [
    {
     "data": {
      "text/plain": [
       "203653"
      ]
     },
     "execution_count": 9,
     "metadata": {},
     "output_type": "execute_result"
    }
   ],
   "source": [
    "VOCAB_SIZE = len(tokenizer.get_vocabulary())\n",
    "VOCAB_SIZE"
   ]
  },
  {
   "cell_type": "code",
   "execution_count": 10,
   "id": "c1f1c859",
   "metadata": {
    "execution": {
     "iopub.execute_input": "2024-02-07T08:53:03.798041Z",
     "iopub.status.busy": "2024-02-07T08:53:03.797639Z",
     "iopub.status.idle": "2024-02-07T08:53:03.802538Z",
     "shell.execute_reply": "2024-02-07T08:53:03.801362Z"
    },
    "papermill": {
     "duration": 0.021087,
     "end_time": "2024-02-07T08:53:03.804876",
     "exception": false,
     "start_time": "2024-02-07T08:53:03.783789",
     "status": "completed"
    },
    "tags": []
   },
   "outputs": [],
   "source": [
    "# tokenizer(train_dataset.text[:1]).numpy().tolist()"
   ]
  },
  {
   "cell_type": "markdown",
   "id": "5f9558c0",
   "metadata": {
    "papermill": {
     "duration": 0.012374,
     "end_time": "2024-02-07T08:53:03.830271",
     "exception": false,
     "start_time": "2024-02-07T08:53:03.817897",
     "status": "completed"
    },
    "tags": []
   },
   "source": [
    "---\n",
    "### 3.2 DEFINING MODEL ARCHITECTURE FOR RETENTION MECHANISM\n",
    "---"
   ]
  },
  {
   "cell_type": "markdown",
   "id": "bf290b9c",
   "metadata": {
    "papermill": {
     "duration": 0.012393,
     "end_time": "2024-02-07T08:53:03.855169",
     "exception": false,
     "start_time": "2024-02-07T08:53:03.842776",
     "status": "completed"
    },
    "tags": []
   },
   "source": [
    "1. RecurrentRetention Layer (RecurrentRetention):\n",
    "  - Implements a recurrent retention mechanism using three feedforward layers for Query (Q), Key (K), and Value (V).\n",
    "  - Parameters include input_size, hidden_size, gamma, and others.\n",
    "  - Applies a retention operation in the call method, producing an output and updated state.\n",
    "  \n",
    "\n",
    "2. FeedForward Layer (FeedForward):\n",
    "  - A simple feedforward layer used in the retention mechanism.\n",
    "  - Parameters include d_model, dff, dropout_rate, and activation.\n",
    "  \n",
    "\n",
    "3. Retention Layer (Retention):\n",
    "  - Implements a retention mechanism using three dense layers for Query (Q), Key (K), and Value (V).\n",
    "  - Applies decay computation, normalization tricks, and a final transformation in the call method.\n",
    "  \n",
    "\n",
    "4. MultiScaleRetention Layer (MultiScaleRetention):\n",
    "  - Combines multiple retention heads, each with a different gamma value.\n",
    "  - Utilizes group normalization, weighted gating, and a final linear transformation.\n",
    "  \n",
    "\n",
    "5. RetentionEncoder Layer (RetentionEncoder):\n",
    "  - Integrates layer normalization, multi-scale retention, and feedforward layers.\n",
    "  - Defines the forward pass (call method) for the retention encoder.\n",
    "\n",
    "\n",
    "6. Initialization:\n",
    "  - The RetentionEncoder is initialized with parameters like dim (dimension), hdim (head dimension), and a custom retention_layer.\n"
   ]
  },
  {
   "cell_type": "code",
   "execution_count": 11,
   "id": "b4def319",
   "metadata": {
    "execution": {
     "iopub.execute_input": "2024-02-07T08:53:03.882766Z",
     "iopub.status.busy": "2024-02-07T08:53:03.882376Z",
     "iopub.status.idle": "2024-02-07T08:53:07.913596Z",
     "shell.execute_reply": "2024-02-07T08:53:07.912423Z"
    },
    "papermill": {
     "duration": 4.048453,
     "end_time": "2024-02-07T08:53:07.916328",
     "exception": false,
     "start_time": "2024-02-07T08:53:03.867875",
     "status": "completed"
    },
    "tags": []
   },
   "outputs": [],
   "source": [
    "import tensorflow as tf\n",
    "from tensorflow.keras import Sequential\n",
    "from tensorflow.keras.layers import Layer, LayerNormalization, GroupNormalization, Dense, SimpleRNNCell, RNN, LSTM, Bidirectional, LSTMCell\n",
    "import torch\n",
    "from itertools import repeat\n",
    "\n",
    "import tensorflow as tf\n",
    "from tensorflow.keras.layers import Layer, LayerNormalization, Dense, SimpleRNNCell, RNN, LSTM, Bidirectional, LSTMCell\n",
    "\n",
    "class RecurrentRetention(tf.compat.v1.nn.rnn_cell.RNNCell):\n",
    "    def __init__(self,\n",
    "                 input_size,\n",
    "                 hidden_size=32,\n",
    "                 gamma=0.984375,\n",
    "                 trainable=True,\n",
    "                 dtype=None,\n",
    "                 **kwargs):\n",
    "        super(RecurrentRetention, self).__init__(trainable=trainable,\n",
    "                                        dtype=dtype,\n",
    "                                        **kwargs)\n",
    "        self.input_size = input_size\n",
    "        self.hidden_size = hidden_size\n",
    "        self.r_layers = {\n",
    "            'Q' : Dense(hidden_size),\n",
    "            'K' : Dense(hidden_size),\n",
    "            'V' : Dense(hidden_size)\n",
    "        }\n",
    "\n",
    "        self.gamma = tf.Variable(gamma, trainable=True)\n",
    "\n",
    "    @property\n",
    "    def state_size(self):\n",
    "        return tf.TensorShape([self.hidden_size, self.hidden_size])\n",
    "\n",
    "    @property\n",
    "    def output_size(self):\n",
    "        return self.hidden_size\n",
    "\n",
    "    def call(self, inputs, state):\n",
    "      q, k, v = [tf.cast(f(inputs), tf.float32) for f in self.r_layers.values()]\n",
    "      s = self.gamma*state + tf.linalg.matmul(k, v, transpose_a=True)#tf.transpose(k, perm=[1, 0])@v\n",
    "      x = tf.einsum('bi, bzk -> bk', q, s)\n",
    "      return x, s\n",
    "\n",
    "\n",
    "class FeedForward(tf.keras.layers.Layer):\n",
    "  def __init__(self, d_model, dff, dropout_rate=0.3, activation='gelu'):\n",
    "    super().__init__()\n",
    "    self.seq = tf.keras.Sequential([\n",
    "      tf.keras.layers.Dense(dff, activation=activation),\n",
    "      tf.keras.layers.Dense(d_model),\n",
    "      tf.keras.layers.Dropout(dropout_rate)\n",
    "    ])\n",
    "\n",
    "  def call(self, x):\n",
    "    return self.seq(x)\n",
    "\n",
    "\n",
    "class Retention(Layer):\n",
    "    def __init__(self, dim=128, gamma = 0.9865, **kwargs):\n",
    "        super().__init__()\n",
    "        _dense_kwargs = {\n",
    "                \"use_bias\" : True,\n",
    "                \"dtype\" : \"float32\"\n",
    "                }\n",
    "        self._qkv_layers = [Dense(dim, **_dense_kwargs),\n",
    "                            Dense(dim, **_dense_kwargs),\n",
    "                            Dense(dim, **_dense_kwargs)]\n",
    "        self.gamma = gamma\n",
    "\n",
    "    def call(self, x, training=False):\n",
    "        Q, K, V = [f(z) for f, z in zip(self._qkv_layers, x)]\n",
    "        _, s, d = Q.shape\n",
    "        #b = b if b is not None else 1\n",
    "        x = Q@tf.transpose(K, perm=[0, 2, 1])\n",
    "        x /= d**0.5 #Normalization Trick 1\n",
    "        D = self._compute_decay(s, self.gamma)\n",
    "        D /= tf.reduce_sum(D, -1)**0.5 #Normalization Trick 2\n",
    "        #D = tf.stack([*repeat(D, b)])\n",
    "        x = x*D\n",
    "        _norm_3 = lambda xs: xs/tf.maximum(tf.abs(tf.math.reduce_sum(xs, -1)), 1)\n",
    "        x = tf.vectorized_map(_norm_3, x) #Normalization Trick 3\n",
    "        x = x@V\n",
    "        return x\n",
    "\n",
    "    def _compute_decay(self, seq_len, gamma = 0.96875):\n",
    "        _indices = list(range(0, seq_len))\n",
    "        _decay_factors = [gamma**(i-j) if i>=j else 0 for i in _indices for j in _indices]\n",
    "        D = tf.reshape(tf.convert_to_tensor(_decay_factors, dtype='float32'), (seq_len, seq_len))\n",
    "        #mask = tf.eye(seq_len, dtype=tf.float32)\n",
    "        #mask += tf.roll(mask, shift=-1, axis=-1)+tf.roll(mask, shift=-2, axis=-1)\n",
    "        return D#*mask\n",
    "\n",
    "class MultiScaleRetention(Layer):\n",
    "    def __init__(self, dim, hdim=100, retention_layer=Retention, **kwargs):\n",
    "      super(MultiScaleRetention, self).__init__()\n",
    "      gamma = 1 - (2 ** (-5 - torch.arange(0, dim//hdim).float()))\n",
    "      gamma = gamma.numpy().tolist()\n",
    "      self.dim = dim\n",
    "      self.hdim = hdim\n",
    "      self.heads = [retention_layer(dim=hdim, gamma=gamma[head], **kwargs) for head in range(dim // hdim)]#\n",
    "      self.gn = GroupNormalization(dim)#//hdim, scale=False)\n",
    "      self.wg = Sequential([\n",
    "            Dense(dim, use_bias=True, activation = 'swish', **kwargs),\n",
    "        ])\n",
    "      self.wo = Dense(dim, use_bias=True, **kwargs)\n",
    "\n",
    "    def call(self, q, k, v):\n",
    "      W = self.wg(q)\n",
    "      #q, k, v = list(map(lambda val: tf.split(val, self.dim//self.hdim, 2), x))\n",
    "      x = [headi([q, k, v]) for headi in self.heads]\n",
    "      x = tf.concat(x, -1)\n",
    "      Y = self.gn(x)\n",
    "      x = self.wo(W * Y)\n",
    "      return x\n",
    "\n",
    "class RetentionEncoder(Layer):\n",
    "    def __init__(self, dim=540, hdim=100, retention_layer=Retention, **kwargs):\n",
    "        super().__init__()\n",
    "        self.layer_norm = LayerNormalization()\n",
    "        self.msr = MultiScaleRetention(dim, hdim, retention_layer=retention_layer)\n",
    "        self.layer_norm1 = LayerNormalization()\n",
    "        self.ffn = FeedForward(dim, dim*4)\n",
    "\n",
    "    def call(self, x, training=False):\n",
    "      xn = self.layer_norm(x)\n",
    "      msr_x = self.msr(xn, xn, xn) + x\n",
    "      x = self.ffn(self.layer_norm1(msr_x)) + msr_x\n",
    "      return x"
   ]
  },
  {
   "cell_type": "markdown",
   "id": "075259f8",
   "metadata": {
    "papermill": {
     "duration": 0.012567,
     "end_time": "2024-02-07T08:53:07.943006",
     "exception": false,
     "start_time": "2024-02-07T08:53:07.930439",
     "status": "completed"
    },
    "tags": []
   },
   "source": [
    "---\n",
    "### 3.3 INITIALIZING A MIRRORED STRATEGY\n",
    "---"
   ]
  },
  {
   "cell_type": "markdown",
   "id": "b573cb9c",
   "metadata": {
    "papermill": {
     "duration": 0.012365,
     "end_time": "2024-02-07T08:53:07.968032",
     "exception": false,
     "start_time": "2024-02-07T08:53:07.955667",
     "status": "completed"
    },
    "tags": []
   },
   "source": [
    "- Creating an instance of '*MirroredStrategy*' named '*strategy*'.\n",
    "- MirroredStrategy is designed for synchronous training on multiple GPUs by replicating all of the model's variables and computations across each available GPU."
   ]
  },
  {
   "cell_type": "code",
   "execution_count": 12,
   "id": "08d91c3d",
   "metadata": {
    "execution": {
     "iopub.execute_input": "2024-02-07T08:53:07.997872Z",
     "iopub.status.busy": "2024-02-07T08:53:07.996562Z",
     "iopub.status.idle": "2024-02-07T08:53:08.007073Z",
     "shell.execute_reply": "2024-02-07T08:53:08.006123Z"
    },
    "papermill": {
     "duration": 0.027173,
     "end_time": "2024-02-07T08:53:08.009502",
     "exception": false,
     "start_time": "2024-02-07T08:53:07.982329",
     "status": "completed"
    },
    "tags": []
   },
   "outputs": [],
   "source": [
    "strategy = tf.distribute.MirroredStrategy()"
   ]
  },
  {
   "cell_type": "markdown",
   "id": "5f99f832",
   "metadata": {
    "papermill": {
     "duration": 0.012452,
     "end_time": "2024-02-07T08:53:08.034666",
     "exception": false,
     "start_time": "2024-02-07T08:53:08.022214",
     "status": "completed"
    },
    "tags": []
   },
   "source": [
    "---\n",
    "### 3.4 CONFIGURING MODEL\n",
    "---"
   ]
  },
  {
   "cell_type": "markdown",
   "id": "1fb66126",
   "metadata": {
    "papermill": {
     "duration": 0.013292,
     "end_time": "2024-02-07T08:53:08.060551",
     "exception": false,
     "start_time": "2024-02-07T08:53:08.047259",
     "status": "completed"
    },
    "tags": []
   },
   "source": [
    "- Wrapping model creation to utilize the previously defined MirroredStrategy for distributed training.\n",
    "- Defining the input layer with a shape of (512,).\n",
    "- Applying an embedding layer to convert input tokens into dense vectors.\n",
    "- Utilizing a Sequential layer with RetentionEncoder repeated once for feature extraction.\n",
    "- Applying a dropout layer to introduce regularization and prevent overfitting.\n",
    "- Flattening the output for subsequent dense layers.\n",
    "- Adding a dense layer with a sigmoid activation for binary classification.\n",
    "- Creating the final Model by specifying the input and output layers.\n",
    "- Compiling the model with an Adam optimizer, Binary Focal Crossentropy loss, and several evaluation metrics."
   ]
  },
  {
   "cell_type": "code",
   "execution_count": 13,
   "id": "a7625393",
   "metadata": {
    "execution": {
     "iopub.execute_input": "2024-02-07T08:53:08.088260Z",
     "iopub.status.busy": "2024-02-07T08:53:08.087606Z",
     "iopub.status.idle": "2024-02-07T08:53:31.532631Z",
     "shell.execute_reply": "2024-02-07T08:53:31.531436Z"
    },
    "papermill": {
     "duration": 23.461681,
     "end_time": "2024-02-07T08:53:31.535272",
     "exception": false,
     "start_time": "2024-02-07T08:53:08.073591",
     "status": "completed"
    },
    "tags": []
   },
   "outputs": [],
   "source": [
    "from tensorflow.keras import Model, Sequential\n",
    "from tensorflow.keras.layers import Input, Embedding, Dense, Flatten, Softmax, Dropout\n",
    "from itertools import repeat\n",
    "\n",
    "with strategy.scope():\n",
    "    inputs = Input((512, ))\n",
    "    x = Embedding(len(tokenizer.get_vocabulary()), 32)(inputs)\n",
    "    x = Sequential([*repeat(RetentionEncoder(32, 32//2), 1)])(x)#RNN(RecurrentRetention(32, 32))(x)\n",
    "    z = Dropout(0.5)(x)\n",
    "    x = Flatten()(x)\n",
    "    x = Dense(1, activation='sigmoid')(x)\n",
    "    model = Model(inputs=inputs, outputs=x)\n",
    "\n",
    "    model.compile(\n",
    "              optimizer=tf.keras.optimizers.Adam(learning_rate=5e-4, weight_decay=0.1, clipvalue=3),\n",
    "              loss=tf.keras.losses.BinaryFocalCrossentropy(apply_class_balancing=True, label_smoothing=0.1),\n",
    "              metrics=[tf.keras.metrics.BinaryAccuracy(),\n",
    "                      tf.keras.metrics.AUC(),\n",
    "                      tf.keras.metrics.Recall(),\n",
    "                      tf.keras.metrics.Precision()],\n",
    "          )"
   ]
  },
  {
   "cell_type": "markdown",
   "id": "6baeee33",
   "metadata": {
    "papermill": {
     "duration": 0.012437,
     "end_time": "2024-02-07T08:53:31.560623",
     "exception": false,
     "start_time": "2024-02-07T08:53:31.548186",
     "status": "completed"
    },
    "tags": []
   },
   "source": [
    "---\n",
    "## 4. MODEL TRAINING\n",
    "---"
   ]
  },
  {
   "cell_type": "markdown",
   "id": "1e29c5a0",
   "metadata": {
    "papermill": {
     "duration": 0.012372,
     "end_time": "2024-02-07T08:53:31.585704",
     "exception": false,
     "start_time": "2024-02-07T08:53:31.573332",
     "status": "completed"
    },
    "tags": []
   },
   "source": [
    "---\n",
    "### 4.1 TRAINING MODEL ACROSS MULTIPLE GPU\n",
    "---"
   ]
  },
  {
   "cell_type": "markdown",
   "id": "55a6ec5a",
   "metadata": {
    "papermill": {
     "duration": 0.012325,
     "end_time": "2024-02-07T08:53:31.610736",
     "exception": false,
     "start_time": "2024-02-07T08:53:31.598411",
     "status": "completed"
    },
    "tags": []
   },
   "source": [
    "- Creating a TensorFlow dataset from the input data, tokenizing the text, and batching it with labels.\n",
    "- Shuffling the dataset to introduce randomness in each epoch's training.\n",
    "- Splitting the dataset into training (train_split) and validation (val_split) sets.\n",
    "- Utilizing the model.fit method to train the model on the training set (train_split), validate on the validation set (val_split), and specifying the number of epochs and batch size.\n",
    "- The training history is collected in the histories list."
   ]
  },
  {
   "cell_type": "code",
   "execution_count": 14,
   "id": "e66ee309",
   "metadata": {
    "execution": {
     "iopub.execute_input": "2024-02-07T08:53:31.637949Z",
     "iopub.status.busy": "2024-02-07T08:53:31.637566Z",
     "iopub.status.idle": "2024-02-07T09:39:18.594259Z",
     "shell.execute_reply": "2024-02-07T09:39:18.593306Z"
    },
    "papermill": {
     "duration": 2746.973537,
     "end_time": "2024-02-07T09:39:18.596801",
     "exception": false,
     "start_time": "2024-02-07T08:53:31.623264",
     "status": "completed"
    },
    "tags": []
   },
   "outputs": [
    {
     "name": "stdout",
     "output_type": "stream",
     "text": [
      "1753/1753 [==============================] - 2703s 2s/step - loss: 0.0136 - binary_accuracy: 0.9681 - auc: 0.9892 - recall: 0.9175 - precision: 0.9694 - val_loss: 0.0047 - val_binary_accuracy: 0.9888 - val_auc: 0.9987 - val_recall: 0.9733 - val_precision: 0.9837\n"
     ]
    }
   ],
   "source": [
    "histories = []\n",
    "with strategy.scope():\n",
    "    ds = tf.data.Dataset.from_tensor_slices((train_dataset.text, train_dataset.label)).batch(128).map(lambda x, y: (tokenizer(x), y))\n",
    "    ds = ds.shuffle(ds.cardinality())\n",
    "    train_split = ds.take(int(len(ds)*0.8))\n",
    "    val_split = ds.skip(int(len(ds)*0.8)).take(int(len(ds)*0.2))\n",
    "    histories = model.fit(train_split, validation_data=[val_split], epochs=1, batch_size=128)"
   ]
  },
  {
   "cell_type": "markdown",
   "id": "1603716e",
   "metadata": {
    "papermill": {
     "duration": 0.198401,
     "end_time": "2024-02-07T09:39:18.923507",
     "exception": false,
     "start_time": "2024-02-07T09:39:18.725106",
     "status": "completed"
    },
    "tags": []
   },
   "source": [
    "---\n",
    "### 4.2 READING THE DATA\n",
    "---"
   ]
  },
  {
   "cell_type": "markdown",
   "id": "3e5cb20a",
   "metadata": {
    "papermill": {
     "duration": 0.126344,
     "end_time": "2024-02-07T09:39:19.178115",
     "exception": false,
     "start_time": "2024-02-07T09:39:19.051771",
     "status": "completed"
    },
    "tags": []
   },
   "source": [
    "- Reading the CSV file located at '../input/llm-detect-ai-generated-text/test_essays.csv'."
   ]
  },
  {
   "cell_type": "code",
   "execution_count": 15,
   "id": "410da3fe",
   "metadata": {
    "execution": {
     "iopub.execute_input": "2024-02-07T09:39:19.438119Z",
     "iopub.status.busy": "2024-02-07T09:39:19.431202Z",
     "iopub.status.idle": "2024-02-07T09:39:19.455293Z",
     "shell.execute_reply": "2024-02-07T09:39:19.454109Z"
    },
    "papermill": {
     "duration": 0.1541,
     "end_time": "2024-02-07T09:39:19.457759",
     "exception": false,
     "start_time": "2024-02-07T09:39:19.303659",
     "status": "completed"
    },
    "tags": []
   },
   "outputs": [],
   "source": [
    "test = read_csv('../input/llm-detect-ai-generated-text/test_essays.csv', sep=',')"
   ]
  },
  {
   "cell_type": "markdown",
   "id": "0165ca53",
   "metadata": {
    "papermill": {
     "duration": 0.12653,
     "end_time": "2024-02-07T09:39:19.711663",
     "exception": false,
     "start_time": "2024-02-07T09:39:19.585133",
     "status": "completed"
    },
    "tags": []
   },
   "source": [
    "---\n",
    "## 5. MODEL INFERENCE\n",
    "---"
   ]
  },
  {
   "cell_type": "markdown",
   "id": "8b3bc75c",
   "metadata": {
    "papermill": {
     "duration": 0.125701,
     "end_time": "2024-02-07T09:39:19.962902",
     "exception": false,
     "start_time": "2024-02-07T09:39:19.837201",
     "status": "completed"
    },
    "tags": []
   },
   "source": [
    "### 5.1 UTILIZING TRAINED MODEL TO MAKE PREDICTIONS"
   ]
  },
  {
   "cell_type": "markdown",
   "id": "06340f05",
   "metadata": {
    "papermill": {
     "duration": 0.125965,
     "end_time": "2024-02-07T09:39:20.214990",
     "exception": false,
     "start_time": "2024-02-07T09:39:20.089025",
     "status": "completed"
    },
    "tags": []
   },
   "source": [
    "- Wrapping the prediction process in strategy.scope() to leverage the specified distributed training strategy.\n",
    "- Creating a TensorFlow dataset from the test data (test.text).\n",
    "- Batching and tokenizing the text data using the model's tokenizer.\n",
    "- Using the model.predict method to obtain predictions for the test data.\n",
    "- The resulting generated variable holds the model's predictions for further analysis or evaluation."
   ]
  },
  {
   "cell_type": "code",
   "execution_count": 16,
   "id": "2fa94190",
   "metadata": {
    "execution": {
     "iopub.execute_input": "2024-02-07T09:39:20.469134Z",
     "iopub.status.busy": "2024-02-07T09:39:20.467982Z",
     "iopub.status.idle": "2024-02-07T09:39:30.444918Z",
     "shell.execute_reply": "2024-02-07T09:39:30.443702Z"
    },
    "papermill": {
     "duration": 10.106901,
     "end_time": "2024-02-07T09:39:30.447802",
     "exception": false,
     "start_time": "2024-02-07T09:39:20.340901",
     "status": "completed"
    },
    "tags": []
   },
   "outputs": [
    {
     "name": "stdout",
     "output_type": "stream",
     "text": [
      "1/1 [==============================] - 10s 10s/step\n"
     ]
    }
   ],
   "source": [
    "with strategy.scope():\n",
    "    generated = model.predict(tf.data.Dataset.from_tensor_slices((test.text)).batch(128).map(lambda x: tokenizer(x)))"
   ]
  },
  {
   "cell_type": "markdown",
   "id": "a2c43da0",
   "metadata": {
    "papermill": {
     "duration": 0.128163,
     "end_time": "2024-02-07T09:39:30.703118",
     "exception": false,
     "start_time": "2024-02-07T09:39:30.574955",
     "status": "completed"
    },
    "tags": []
   },
   "source": [
    "---\n",
    "## 6. POST INFERENCE PROCESSING\n",
    "---"
   ]
  },
  {
   "cell_type": "markdown",
   "id": "4cc0963f",
   "metadata": {
    "papermill": {
     "duration": 0.125583,
     "end_time": "2024-02-07T09:39:30.955120",
     "exception": false,
     "start_time": "2024-02-07T09:39:30.829537",
     "status": "completed"
    },
    "tags": []
   },
   "source": [
    "---\n",
    "### 6.1 STORING THE PREDICTIONS\n",
    "---"
   ]
  },
  {
   "cell_type": "markdown",
   "id": "273b9295",
   "metadata": {
    "papermill": {
     "duration": 0.126502,
     "end_time": "2024-02-07T09:39:31.213628",
     "exception": false,
     "start_time": "2024-02-07T09:39:31.087126",
     "status": "completed"
    },
    "tags": []
   },
   "source": [
    "- The values in the 'generated' column are filled with the predictions obtained from the model."
   ]
  },
  {
   "cell_type": "code",
   "execution_count": 17,
   "id": "6ad655c2",
   "metadata": {
    "execution": {
     "iopub.execute_input": "2024-02-07T09:39:31.469520Z",
     "iopub.status.busy": "2024-02-07T09:39:31.468549Z",
     "iopub.status.idle": "2024-02-07T09:39:31.474497Z",
     "shell.execute_reply": "2024-02-07T09:39:31.473348Z"
    },
    "papermill": {
     "duration": 0.135914,
     "end_time": "2024-02-07T09:39:31.476758",
     "exception": false,
     "start_time": "2024-02-07T09:39:31.340844",
     "status": "completed"
    },
    "tags": []
   },
   "outputs": [],
   "source": [
    "test['generated'] = generated"
   ]
  },
  {
   "cell_type": "markdown",
   "id": "454cb52b",
   "metadata": {
    "papermill": {
     "duration": 0.125583,
     "end_time": "2024-02-07T09:39:31.732237",
     "exception": false,
     "start_time": "2024-02-07T09:39:31.606654",
     "status": "completed"
    },
    "tags": []
   },
   "source": [
    "---\n",
    "### 6.2 MODIFYING THE TEST DATAFRAME\n",
    "---"
   ]
  },
  {
   "cell_type": "markdown",
   "id": "953d8e3a",
   "metadata": {
    "papermill": {
     "duration": 0.126727,
     "end_time": "2024-02-07T09:39:31.984820",
     "exception": false,
     "start_time": "2024-02-07T09:39:31.858093",
     "status": "completed"
    },
    "tags": []
   },
   "source": [
    "- The columns 'prompt_id' and 'text' are dropped from the DataFrame.\n",
    "- The index of the DataFrame is reset after the columns are dropped."
   ]
  },
  {
   "cell_type": "code",
   "execution_count": 18,
   "id": "c8411be4",
   "metadata": {
    "execution": {
     "iopub.execute_input": "2024-02-07T09:39:32.240688Z",
     "iopub.status.busy": "2024-02-07T09:39:32.240239Z",
     "iopub.status.idle": "2024-02-07T09:39:32.247474Z",
     "shell.execute_reply": "2024-02-07T09:39:32.246484Z"
    },
    "papermill": {
     "duration": 0.137091,
     "end_time": "2024-02-07T09:39:32.249812",
     "exception": false,
     "start_time": "2024-02-07T09:39:32.112721",
     "status": "completed"
    },
    "tags": []
   },
   "outputs": [],
   "source": [
    "test = test.drop(['prompt_id', 'text'], axis=1).reset_index(drop=True)"
   ]
  },
  {
   "cell_type": "markdown",
   "id": "3b802041",
   "metadata": {
    "papermill": {
     "duration": 0.12517,
     "end_time": "2024-02-07T09:39:32.500306",
     "exception": false,
     "start_time": "2024-02-07T09:39:32.375136",
     "status": "completed"
    },
    "tags": []
   },
   "source": [
    "---\n",
    "### 6.2 LOOKING AT THE DATASET\n",
    "---"
   ]
  },
  {
   "cell_type": "code",
   "execution_count": 19,
   "id": "5e73227d",
   "metadata": {
    "execution": {
     "iopub.execute_input": "2024-02-07T09:39:32.758528Z",
     "iopub.status.busy": "2024-02-07T09:39:32.757272Z",
     "iopub.status.idle": "2024-02-07T09:39:32.768544Z",
     "shell.execute_reply": "2024-02-07T09:39:32.767319Z"
    },
    "papermill": {
     "duration": 0.141756,
     "end_time": "2024-02-07T09:39:32.770879",
     "exception": false,
     "start_time": "2024-02-07T09:39:32.629123",
     "status": "completed"
    },
    "tags": []
   },
   "outputs": [
    {
     "data": {
      "text/html": [
       "<div>\n",
       "<style scoped>\n",
       "    .dataframe tbody tr th:only-of-type {\n",
       "        vertical-align: middle;\n",
       "    }\n",
       "\n",
       "    .dataframe tbody tr th {\n",
       "        vertical-align: top;\n",
       "    }\n",
       "\n",
       "    .dataframe thead th {\n",
       "        text-align: right;\n",
       "    }\n",
       "</style>\n",
       "<table border=\"1\" class=\"dataframe\">\n",
       "  <thead>\n",
       "    <tr style=\"text-align: right;\">\n",
       "      <th></th>\n",
       "      <th>id</th>\n",
       "      <th>generated</th>\n",
       "    </tr>\n",
       "  </thead>\n",
       "  <tbody>\n",
       "    <tr>\n",
       "      <th>0</th>\n",
       "      <td>0000aaaa</td>\n",
       "      <td>0.635098</td>\n",
       "    </tr>\n",
       "    <tr>\n",
       "      <th>1</th>\n",
       "      <td>1111bbbb</td>\n",
       "      <td>0.635098</td>\n",
       "    </tr>\n",
       "    <tr>\n",
       "      <th>2</th>\n",
       "      <td>2222cccc</td>\n",
       "      <td>0.635098</td>\n",
       "    </tr>\n",
       "  </tbody>\n",
       "</table>\n",
       "</div>"
      ],
      "text/plain": [
       "         id  generated\n",
       "0  0000aaaa   0.635098\n",
       "1  1111bbbb   0.635098\n",
       "2  2222cccc   0.635098"
      ]
     },
     "execution_count": 19,
     "metadata": {},
     "output_type": "execute_result"
    }
   ],
   "source": [
    "test.head()"
   ]
  },
  {
   "cell_type": "markdown",
   "id": "f770b2f2",
   "metadata": {
    "papermill": {
     "duration": 0.129142,
     "end_time": "2024-02-07T09:39:33.096062",
     "exception": false,
     "start_time": "2024-02-07T09:39:32.966920",
     "status": "completed"
    },
    "tags": []
   },
   "source": [
    "---\n",
    "## 7. SUBMISSION\n",
    "---"
   ]
  },
  {
   "cell_type": "code",
   "execution_count": 20,
   "id": "4f08f703",
   "metadata": {
    "execution": {
     "iopub.execute_input": "2024-02-07T09:39:33.350685Z",
     "iopub.status.busy": "2024-02-07T09:39:33.350253Z",
     "iopub.status.idle": "2024-02-07T09:39:33.358457Z",
     "shell.execute_reply": "2024-02-07T09:39:33.357419Z"
    },
    "papermill": {
     "duration": 0.138768,
     "end_time": "2024-02-07T09:39:33.360750",
     "exception": false,
     "start_time": "2024-02-07T09:39:33.221982",
     "status": "completed"
    },
    "tags": []
   },
   "outputs": [],
   "source": [
    "test.to_csv('submission.csv', index=False)"
   ]
  }
 ],
 "metadata": {
  "kaggle": {
   "accelerator": "none",
   "dataSources": [
    {
     "databundleVersionId": 6888007,
     "sourceId": 61542,
     "sourceType": "competition"
    },
    {
     "datasetId": 3936750,
     "sourceId": 6847931,
     "sourceType": "datasetVersion"
    },
    {
     "datasetId": 3946973,
     "sourceId": 6867914,
     "sourceType": "datasetVersion"
    },
    {
     "datasetId": 3937441,
     "sourceId": 6868189,
     "sourceType": "datasetVersion"
    },
    {
     "datasetId": 3955358,
     "sourceId": 6888403,
     "sourceType": "datasetVersion"
    },
    {
     "datasetId": 3942644,
     "sourceId": 6890527,
     "sourceType": "datasetVersion"
    },
    {
     "datasetId": 3973977,
     "sourceId": 6920799,
     "sourceType": "datasetVersion"
    },
    {
     "datasetId": 3961875,
     "sourceId": 6971638,
     "sourceType": "datasetVersion"
    },
    {
     "datasetId": 4005256,
     "sourceId": 6977472,
     "sourceType": "datasetVersion"
    },
    {
     "datasetId": 3937250,
     "sourceId": 7017419,
     "sourceType": "datasetVersion"
    },
    {
     "datasetId": 3944051,
     "sourceId": 7060310,
     "sourceType": "datasetVersion"
    }
   ],
   "isGpuEnabled": false,
   "isInternetEnabled": false,
   "language": "python",
   "sourceType": "notebook"
  },
  "kernelspec": {
   "display_name": "Python 3",
   "language": "python",
   "name": "python3"
  },
  "language_info": {
   "codemirror_mode": {
    "name": "ipython",
    "version": 3
   },
   "file_extension": ".py",
   "mimetype": "text/x-python",
   "name": "python",
   "nbconvert_exporter": "python",
   "pygments_lexer": "ipython3",
   "version": "3.10.13"
  },
  "papermill": {
   "default_parameters": {},
   "duration": 2921.098778,
   "end_time": "2024-02-07T09:39:37.032919",
   "environment_variables": {},
   "exception": null,
   "input_path": "__notebook__.ipynb",
   "output_path": "__notebook__.ipynb",
   "parameters": {},
   "start_time": "2024-02-07T08:50:55.934141",
   "version": "2.4.0"
  }
 },
 "nbformat": 4,
 "nbformat_minor": 5
}
